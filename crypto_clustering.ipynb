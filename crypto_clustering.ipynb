{
 "cells": [
  {
   "cell_type": "markdown",
   "metadata": {},
   "source": [
    "# Clustering Crypto"
   ]
  },
  {
   "cell_type": "code",
   "execution_count": null,
   "metadata": {},
   "outputs": [],
   "source": [
    "# Initial imports\n",
    "import requests\n",
    "import pandas as pd\n",
    "import matplotlib.pyplot as plt\n",
    "import hvplot.pandas\n",
    "import plotly.express as px\n",
    "from sklearn.preprocessing import StandardScaler, MinMaxScaler\n",
    "from sklearn.decomposition import PCA\n",
    "from sklearn.cluster import KMeans\n"
   ]
  },
  {
   "cell_type": "markdown",
   "metadata": {},
   "source": [
    "### Fetching Cryptocurrency Data"
   ]
  },
  {
   "cell_type": "code",
   "execution_count": null,
   "metadata": {},
   "outputs": [],
   "source": [
    "# Use the following endpoint to fetch json data\n",
    "url = \"https://min-api.cryptocompare.com/data/all/coinlist\"\n",
    "response = requests.get(url).json()"
   ]
  },
  {
   "cell_type": "code",
   "execution_count": null,
   "metadata": {},
   "outputs": [],
   "source": [
    "# Create a DataFrame \n",
    "crypto_df = pd.DataFrame(response['Data']).T\n",
    "crypto_df.head()\n",
    "\n"
   ]
  },
  {
   "cell_type": "markdown",
   "metadata": {},
   "source": [
    "### Data Preprocessing"
   ]
  },
  {
   "cell_type": "code",
   "execution_count": null,
   "metadata": {},
   "outputs": [],
   "source": [
    "# Keep only necessary columns:\n",
    "# 'CoinName','Algorithm','IsTrading','ProofType','TotalCoinsMined','TotalCoinSupply'\n",
    "crypto_df=crypto_df[['CoinName','Algorithm','IsTrading','ProofType','TotalCoinsMined','TotalCoinSupply']]\n",
    "crypto_df.head(10)\n"
   ]
  },
  {
   "cell_type": "code",
   "execution_count": null,
   "metadata": {},
   "outputs": [],
   "source": [
    "# Keep only cryptocurrencies that are trading\n",
    "crypto_df = crypto_df[crypto_df[\"IsTrading\"] == True]\n",
    "print(crypto_df.shape)\n",
    "crypto_df.head(10)\n"
   ]
  },
  {
   "cell_type": "code",
   "execution_count": null,
   "metadata": {},
   "outputs": [],
   "source": [
    "# Keep only cryptocurrencies with a working algorithm\n",
    "crypto_df = crypto_df[crypto_df[\"Algorithm\"] != \"N/A\"]\n",
    "print(crypto_df.shape)\n",
    "crypto_df.head(10)\n"
   ]
  },
  {
   "cell_type": "code",
   "execution_count": null,
   "metadata": {},
   "outputs": [],
   "source": [
    "# Remove the 'IsTrading' column\n",
    "crypto_df.drop(\"IsTrading\", axis=1, inplace=True)\n",
    "print(crypto_df.shape)\n",
    "crypto_df.head(10)\n"
   ]
  },
  {
   "cell_type": "code",
   "execution_count": null,
   "metadata": {},
   "outputs": [],
   "source": [
    "# Remove rows with at least 1 null value\n",
    "crypto_df = crypto_df.dropna(axis=0, how=\"any\")\n",
    "print(crypto_df.shape)\n",
    "crypto_df.head(10)\n"
   ]
  },
  {
   "cell_type": "code",
   "execution_count": null,
   "metadata": {},
   "outputs": [],
   "source": [
    "# Remove rows with cryptocurrencies having no coins mined\n",
    "crypto_df = crypto_df[crypto_df[\"TotalCoinsMined\"] > 0]\n",
    "print(crypto_df.shape)\n",
    "crypto_df.head(10)\n"
   ]
  },
  {
   "cell_type": "code",
   "execution_count": null,
   "metadata": {},
   "outputs": [],
   "source": [
    "# Drop rows where there are 'N/A' text values\n",
    "crypto_df = crypto_df[crypto_df.iloc[:] != 'N/A'].dropna()\n",
    "crypto_df.head(10)\n"
   ]
  },
  {
   "cell_type": "code",
   "execution_count": null,
   "metadata": {},
   "outputs": [],
   "source": [
    "# Store the 'CoinName'column in its own DataFrame prior to dropping it from crypto_df \n",
    "coins_name = pd.DataFrame(crypto_df[\"CoinName\"], index=crypto_df.index)\n",
    "print(coins_name.shape)\n",
    "coins_name.head()\n"
   ]
  },
  {
   "cell_type": "code",
   "execution_count": null,
   "metadata": {},
   "outputs": [],
   "source": [
    "# Drop the 'CoinName' column since it's not going to be used on the clustering algorithm\n",
    "crypto_df = crypto_df.drop(\"CoinName\", axis=1)\n",
    "print(crypto_df.shape)\n",
    "crypto_df.head(10)\n"
   ]
  },
  {
   "cell_type": "code",
   "execution_count": null,
   "metadata": {},
   "outputs": [],
   "source": [
    "# Create dummy variables for text features\n",
    "X = pd.get_dummies(data=crypto_df, columns=[\"Algorithm\", \"ProofType\"])\n",
    "print(X.shape)\n",
    "X.head(10)\n"
   ]
  },
  {
   "cell_type": "code",
   "execution_count": null,
   "metadata": {},
   "outputs": [],
   "source": [
    "# Standardize data\n",
    "X = StandardScaler().fit_transform(X)\n",
    "X[:5]\n"
   ]
  },
  {
   "cell_type": "markdown",
   "metadata": {},
   "source": [
    "### Reducing Dimensions Using PCA"
   ]
  },
  {
   "cell_type": "code",
   "execution_count": null,
   "metadata": {},
   "outputs": [],
   "source": [
    "# Use PCA to reduce dimensions to 3 principal components\n",
    "n_comp = 3\n",
    "pca = PCA(n_components=n_comp)\n",
    "principal_components = pca.fit_transform(X)\n",
    "principal_components"
   ]
  },
  {
   "cell_type": "code",
   "execution_count": null,
   "metadata": {},
   "outputs": [],
   "source": [
    "# Create a DataFrame with the principal components data\n",
    "col_names = [f\"PC {i}\" for i in range(1, n_comp + 1)]\n",
    "pcs_df = pd.DataFrame(principal_components, columns=col_names, index=crypto_df.index)\n",
    "print(pcs_df.shape)\n",
    "pcs_df.head(10)"
   ]
  },
  {
   "cell_type": "markdown",
   "metadata": {},
   "source": [
    "### Clustering Crytocurrencies Using K-Means\n",
    "\n",
    "#### Finding the Best Value for `k` Using the Elbow Curve"
   ]
  },
  {
   "cell_type": "code",
   "execution_count": null,
   "metadata": {},
   "outputs": [],
   "source": [
    "inertia = []\n",
    "k = list(range(1, 11))\n",
    "\n",
    "# Calculate the inertia for the range of k values\n",
    "\n"
   ]
  },
  {
   "cell_type": "markdown",
   "metadata": {},
   "source": [
    "Running K-Means with `k=<your best value for k here>`"
   ]
  },
  {
   "cell_type": "code",
   "execution_count": null,
   "metadata": {},
   "outputs": [],
   "source": [
    "# Initialize the K-Means model\n",
    "model = KMeans(n_clusters=4, random_state=0)\n",
    "\n",
    "# Fit the model\n",
    "model.fit(pcs_df)\n",
    "\n",
    "# Predict clusters\n",
    "predictions = model.predict(pcs_df)\n",
    "\n",
    "\n"
   ]
  },
  {
   "cell_type": "markdown",
   "metadata": {},
   "source": [
    "### Visualizing Results\n",
    "\n",
    "#### 3D-Scatter with Clusters"
   ]
  },
  {
   "cell_type": "code",
   "execution_count": null,
   "metadata": {},
   "outputs": [],
   "source": [
    "# Create a new DataFrame including predicted clusters and cryptocurrencies features\n",
    "clustered_df = pd.concat([crypto_df, pcs_df], axis=1, sort=False)\n",
    "clustered_df[\"CoinName\"] = coins_name[\"CoinName\"]\n",
    "clustered_df[\"Class\"] = model.labels_\n",
    "print(clustered_df.shape)\n",
    "clustered_df.head(10)\n",
    "\n",
    "# Create a 3D-Scatter with the PCA data and the clusters\n",
    "fig = px.scatter_3d(\n",
    "    clustered_df,\n",
    "    x=\"PC 1\",\n",
    "    y=\"PC 2\",\n",
    "    z=\"PC 3\",\n",
    "    color=\"Class\",\n",
    "    symbol=\"Class\",\n",
    "    hover_name=\"CoinName\",\n",
    "    hover_data=[\"Algorithm\"],\n",
    "    width=800,\n",
    ")\n",
    "fig.update_layout(legend=dict(x=0, y=1))\n",
    "fig.show()\n",
    "\n"
   ]
  },
  {
   "cell_type": "markdown",
   "metadata": {},
   "source": [
    "#### Table of Tradable Cryptocurrencies"
   ]
  },
  {
   "cell_type": "code",
   "execution_count": 93,
   "metadata": {},
   "outputs": [
    {
     "ename": "KeyError",
     "evalue": "\"['TotalCoinSupply'] not in index\"",
     "output_type": "error",
     "traceback": [
      "\u001b[1;31m---------------------------------------------------------------------------\u001b[0m",
      "\u001b[1;31mKeyError\u001b[0m                                  Traceback (most recent call last)",
      "\u001b[1;32mc:\\Users\\Queenbee\\GitHub\\April19\\UTOR-VIRT-FIN-PT-11-2021-U-C\\13-AWS-Cloud\\Unit 13 Homework\\Instructions\\Starter_Files\\crypto_clustering.ipynb Cell 28'\u001b[0m in \u001b[0;36m<cell line: 2>\u001b[1;34m()\u001b[0m\n\u001b[0;32m      <a href='vscode-notebook-cell:/c%3A/Users/Queenbee/GitHub/April19/UTOR-VIRT-FIN-PT-11-2021-U-C/13-AWS-Cloud/Unit%2013%20Homework/Instructions/Starter_Files/crypto_clustering.ipynb#ch0000028?line=0'>1</a>\u001b[0m \u001b[39m# Table with tradable cryptos\u001b[39;00m\n\u001b[1;32m----> <a href='vscode-notebook-cell:/c%3A/Users/Queenbee/GitHub/April19/UTOR-VIRT-FIN-PT-11-2021-U-C/13-AWS-Cloud/Unit%2013%20Homework/Instructions/Starter_Files/crypto_clustering.ipynb#ch0000028?line=1'>2</a>\u001b[0m clustered_df[\n\u001b[0;32m      <a href='vscode-notebook-cell:/c%3A/Users/Queenbee/GitHub/April19/UTOR-VIRT-FIN-PT-11-2021-U-C/13-AWS-Cloud/Unit%2013%20Homework/Instructions/Starter_Files/crypto_clustering.ipynb#ch0000028?line=2'>3</a>\u001b[0m     [\n\u001b[0;32m      <a href='vscode-notebook-cell:/c%3A/Users/Queenbee/GitHub/April19/UTOR-VIRT-FIN-PT-11-2021-U-C/13-AWS-Cloud/Unit%2013%20Homework/Instructions/Starter_Files/crypto_clustering.ipynb#ch0000028?line=3'>4</a>\u001b[0m         \u001b[39m\"\u001b[39;49m\u001b[39mCoinName\u001b[39;49m\u001b[39m\"\u001b[39;49m,\n\u001b[0;32m      <a href='vscode-notebook-cell:/c%3A/Users/Queenbee/GitHub/April19/UTOR-VIRT-FIN-PT-11-2021-U-C/13-AWS-Cloud/Unit%2013%20Homework/Instructions/Starter_Files/crypto_clustering.ipynb#ch0000028?line=4'>5</a>\u001b[0m         \u001b[39m\"\u001b[39;49m\u001b[39mAlgorithm\u001b[39;49m\u001b[39m\"\u001b[39;49m,\n\u001b[0;32m      <a href='vscode-notebook-cell:/c%3A/Users/Queenbee/GitHub/April19/UTOR-VIRT-FIN-PT-11-2021-U-C/13-AWS-Cloud/Unit%2013%20Homework/Instructions/Starter_Files/crypto_clustering.ipynb#ch0000028?line=5'>6</a>\u001b[0m         \u001b[39m\"\u001b[39;49m\u001b[39mProofType\u001b[39;49m\u001b[39m\"\u001b[39;49m,\n\u001b[0;32m      <a href='vscode-notebook-cell:/c%3A/Users/Queenbee/GitHub/April19/UTOR-VIRT-FIN-PT-11-2021-U-C/13-AWS-Cloud/Unit%2013%20Homework/Instructions/Starter_Files/crypto_clustering.ipynb#ch0000028?line=6'>7</a>\u001b[0m         \u001b[39m\"\u001b[39;49m\u001b[39mTotalCoinSupply\u001b[39;49m\u001b[39m\"\u001b[39;49m,\n\u001b[0;32m      <a href='vscode-notebook-cell:/c%3A/Users/Queenbee/GitHub/April19/UTOR-VIRT-FIN-PT-11-2021-U-C/13-AWS-Cloud/Unit%2013%20Homework/Instructions/Starter_Files/crypto_clustering.ipynb#ch0000028?line=7'>8</a>\u001b[0m         \u001b[39m\"\u001b[39;49m\u001b[39mTotalCoinsMined\u001b[39;49m\u001b[39m\"\u001b[39;49m,\n\u001b[0;32m      <a href='vscode-notebook-cell:/c%3A/Users/Queenbee/GitHub/April19/UTOR-VIRT-FIN-PT-11-2021-U-C/13-AWS-Cloud/Unit%2013%20Homework/Instructions/Starter_Files/crypto_clustering.ipynb#ch0000028?line=8'>9</a>\u001b[0m         \u001b[39m\"\u001b[39;49m\u001b[39mClass\u001b[39;49m\u001b[39m\"\u001b[39;49m,\n\u001b[0;32m     <a href='vscode-notebook-cell:/c%3A/Users/Queenbee/GitHub/April19/UTOR-VIRT-FIN-PT-11-2021-U-C/13-AWS-Cloud/Unit%2013%20Homework/Instructions/Starter_Files/crypto_clustering.ipynb#ch0000028?line=9'>10</a>\u001b[0m     ]\n\u001b[0;32m     <a href='vscode-notebook-cell:/c%3A/Users/Queenbee/GitHub/April19/UTOR-VIRT-FIN-PT-11-2021-U-C/13-AWS-Cloud/Unit%2013%20Homework/Instructions/Starter_Files/crypto_clustering.ipynb#ch0000028?line=10'>11</a>\u001b[0m ]\u001b[39m.\u001b[39mhvplot\u001b[39m.\u001b[39mtable()\n",
      "File \u001b[1;32m~\\AppData\\Local\\Programs\\PythonCodingPack\\lib\\site-packages\\pandas\\core\\frame.py:2905\u001b[0m, in \u001b[0;36mDataFrame.__getitem__\u001b[1;34m(self, key)\u001b[0m\n\u001b[0;32m   <a href='file:///c%3A/Users/Queenbee/AppData/Local/Programs/PythonCodingPack/lib/site-packages/pandas/core/frame.py?line=2902'>2903</a>\u001b[0m     \u001b[39mif\u001b[39;00m is_iterator(key):\n\u001b[0;32m   <a href='file:///c%3A/Users/Queenbee/AppData/Local/Programs/PythonCodingPack/lib/site-packages/pandas/core/frame.py?line=2903'>2904</a>\u001b[0m         key \u001b[39m=\u001b[39m \u001b[39mlist\u001b[39m(key)\n\u001b[1;32m-> <a href='file:///c%3A/Users/Queenbee/AppData/Local/Programs/PythonCodingPack/lib/site-packages/pandas/core/frame.py?line=2904'>2905</a>\u001b[0m     indexer \u001b[39m=\u001b[39m \u001b[39mself\u001b[39;49m\u001b[39m.\u001b[39;49mloc\u001b[39m.\u001b[39;49m_get_listlike_indexer(key, axis\u001b[39m=\u001b[39;49m\u001b[39m1\u001b[39;49m, raise_missing\u001b[39m=\u001b[39;49m\u001b[39mTrue\u001b[39;49;00m)[\u001b[39m1\u001b[39m]\n\u001b[0;32m   <a href='file:///c%3A/Users/Queenbee/AppData/Local/Programs/PythonCodingPack/lib/site-packages/pandas/core/frame.py?line=2906'>2907</a>\u001b[0m \u001b[39m# take() does not accept boolean indexers\u001b[39;00m\n\u001b[0;32m   <a href='file:///c%3A/Users/Queenbee/AppData/Local/Programs/PythonCodingPack/lib/site-packages/pandas/core/frame.py?line=2907'>2908</a>\u001b[0m \u001b[39mif\u001b[39;00m \u001b[39mgetattr\u001b[39m(indexer, \u001b[39m\"\u001b[39m\u001b[39mdtype\u001b[39m\u001b[39m\"\u001b[39m, \u001b[39mNone\u001b[39;00m) \u001b[39m==\u001b[39m \u001b[39mbool\u001b[39m:\n",
      "File \u001b[1;32m~\\AppData\\Local\\Programs\\PythonCodingPack\\lib\\site-packages\\pandas\\core\\indexing.py:1254\u001b[0m, in \u001b[0;36m_LocIndexer._get_listlike_indexer\u001b[1;34m(self, key, axis, raise_missing)\u001b[0m\n\u001b[0;32m   <a href='file:///c%3A/Users/Queenbee/AppData/Local/Programs/PythonCodingPack/lib/site-packages/pandas/core/indexing.py?line=1250'>1251</a>\u001b[0m \u001b[39melse\u001b[39;00m:\n\u001b[0;32m   <a href='file:///c%3A/Users/Queenbee/AppData/Local/Programs/PythonCodingPack/lib/site-packages/pandas/core/indexing.py?line=1251'>1252</a>\u001b[0m     keyarr, indexer, new_indexer \u001b[39m=\u001b[39m ax\u001b[39m.\u001b[39m_reindex_non_unique(keyarr)\n\u001b[1;32m-> <a href='file:///c%3A/Users/Queenbee/AppData/Local/Programs/PythonCodingPack/lib/site-packages/pandas/core/indexing.py?line=1253'>1254</a>\u001b[0m \u001b[39mself\u001b[39;49m\u001b[39m.\u001b[39;49m_validate_read_indexer(keyarr, indexer, axis, raise_missing\u001b[39m=\u001b[39;49mraise_missing)\n\u001b[0;32m   <a href='file:///c%3A/Users/Queenbee/AppData/Local/Programs/PythonCodingPack/lib/site-packages/pandas/core/indexing.py?line=1254'>1255</a>\u001b[0m \u001b[39mreturn\u001b[39;00m keyarr, indexer\n",
      "File \u001b[1;32m~\\AppData\\Local\\Programs\\PythonCodingPack\\lib\\site-packages\\pandas\\core\\indexing.py:1304\u001b[0m, in \u001b[0;36m_LocIndexer._validate_read_indexer\u001b[1;34m(self, key, indexer, axis, raise_missing)\u001b[0m\n\u001b[0;32m   <a href='file:///c%3A/Users/Queenbee/AppData/Local/Programs/PythonCodingPack/lib/site-packages/pandas/core/indexing.py?line=1301'>1302</a>\u001b[0m \u001b[39mif\u001b[39;00m raise_missing:\n\u001b[0;32m   <a href='file:///c%3A/Users/Queenbee/AppData/Local/Programs/PythonCodingPack/lib/site-packages/pandas/core/indexing.py?line=1302'>1303</a>\u001b[0m     not_found \u001b[39m=\u001b[39m \u001b[39mlist\u001b[39m(\u001b[39mset\u001b[39m(key) \u001b[39m-\u001b[39m \u001b[39mset\u001b[39m(ax))\n\u001b[1;32m-> <a href='file:///c%3A/Users/Queenbee/AppData/Local/Programs/PythonCodingPack/lib/site-packages/pandas/core/indexing.py?line=1303'>1304</a>\u001b[0m     \u001b[39mraise\u001b[39;00m \u001b[39mKeyError\u001b[39;00m(\u001b[39mf\u001b[39m\u001b[39m\"\u001b[39m\u001b[39m{\u001b[39;00mnot_found\u001b[39m}\u001b[39;00m\u001b[39m not in index\u001b[39m\u001b[39m\"\u001b[39m)\n\u001b[0;32m   <a href='file:///c%3A/Users/Queenbee/AppData/Local/Programs/PythonCodingPack/lib/site-packages/pandas/core/indexing.py?line=1305'>1306</a>\u001b[0m \u001b[39m# we skip the warning on Categorical\u001b[39;00m\n\u001b[0;32m   <a href='file:///c%3A/Users/Queenbee/AppData/Local/Programs/PythonCodingPack/lib/site-packages/pandas/core/indexing.py?line=1306'>1307</a>\u001b[0m \u001b[39m# as this check is actually done (check for\u001b[39;00m\n\u001b[0;32m   <a href='file:///c%3A/Users/Queenbee/AppData/Local/Programs/PythonCodingPack/lib/site-packages/pandas/core/indexing.py?line=1307'>1308</a>\u001b[0m \u001b[39m# non-missing values), but a bit later in the\u001b[39;00m\n\u001b[0;32m   <a href='file:///c%3A/Users/Queenbee/AppData/Local/Programs/PythonCodingPack/lib/site-packages/pandas/core/indexing.py?line=1308'>1309</a>\u001b[0m \u001b[39m# code, so we want to avoid warning & then\u001b[39;00m\n\u001b[0;32m   <a href='file:///c%3A/Users/Queenbee/AppData/Local/Programs/PythonCodingPack/lib/site-packages/pandas/core/indexing.py?line=1309'>1310</a>\u001b[0m \u001b[39m# just raising\u001b[39;00m\n\u001b[0;32m   <a href='file:///c%3A/Users/Queenbee/AppData/Local/Programs/PythonCodingPack/lib/site-packages/pandas/core/indexing.py?line=1310'>1311</a>\u001b[0m \u001b[39mif\u001b[39;00m \u001b[39mnot\u001b[39;00m ax\u001b[39m.\u001b[39mis_categorical():\n",
      "\u001b[1;31mKeyError\u001b[0m: \"['TotalCoinSupply'] not in index\""
     ]
    }
   ],
   "source": [
    "# Table with tradable cryptos\n",
    "clustered_df[\n",
    "    [\n",
    "        \"CoinName\",\n",
    "        \"Algorithm\",\n",
    "        \"ProofType\",\n",
    "        \"TotalCoinSupply\",\n",
    "        \"TotalCoinsMined\",\n",
    "        \"Class\",\n",
    "    ]\n",
    "].hvplot.table()\n",
    "\n",
    "\n"
   ]
  },
  {
   "cell_type": "code",
   "execution_count": 92,
   "metadata": {},
   "outputs": [
    {
     "name": "stdout",
     "output_type": "stream",
     "text": [
      "There are 140 tradable cryptocurrencies.\n"
     ]
    }
   ],
   "source": [
    "# Print the total number of tradable cryptocurrencies\n",
    "print(f\"There are {clustered_df.shape[0]} tradable cryptocurrencies.\")"
   ]
  },
  {
   "cell_type": "markdown",
   "metadata": {},
   "source": [
    "#### Scatter Plot with Tradable Cryptocurrencies"
   ]
  },
  {
   "cell_type": "code",
   "execution_count": 95,
   "metadata": {},
   "outputs": [
    {
     "ename": "KeyError",
     "evalue": "\"['TotalCoinSupply'] not in index\"",
     "output_type": "error",
     "traceback": [
      "\u001b[1;31m---------------------------------------------------------------------------\u001b[0m",
      "\u001b[1;31mKeyError\u001b[0m                                  Traceback (most recent call last)",
      "\u001b[1;32mc:\\Users\\Queenbee\\GitHub\\April19\\UTOR-VIRT-FIN-PT-11-2021-U-C\\13-AWS-Cloud\\Unit 13 Homework\\Instructions\\Starter_Files\\crypto_clustering.ipynb Cell 31'\u001b[0m in \u001b[0;36m<cell line: 3>\u001b[1;34m()\u001b[0m\n\u001b[0;32m      <a href='vscode-notebook-cell:/c%3A/Users/Queenbee/GitHub/April19/UTOR-VIRT-FIN-PT-11-2021-U-C/13-AWS-Cloud/Unit%2013%20Homework/Instructions/Starter_Files/crypto_clustering.ipynb#ch0000031?line=0'>1</a>\u001b[0m \u001b[39m# Scale data to create the scatter plot\u001b[39;00m\n\u001b[0;32m      <a href='vscode-notebook-cell:/c%3A/Users/Queenbee/GitHub/April19/UTOR-VIRT-FIN-PT-11-2021-U-C/13-AWS-Cloud/Unit%2013%20Homework/Instructions/Starter_Files/crypto_clustering.ipynb#ch0000031?line=1'>2</a>\u001b[0m mm_scaler \u001b[39m=\u001b[39m MinMaxScaler()\n\u001b[0;32m      <a href='vscode-notebook-cell:/c%3A/Users/Queenbee/GitHub/April19/UTOR-VIRT-FIN-PT-11-2021-U-C/13-AWS-Cloud/Unit%2013%20Homework/Instructions/Starter_Files/crypto_clustering.ipynb#ch0000031?line=2'>3</a>\u001b[0m plot_data \u001b[39m=\u001b[39m mm_scaler\u001b[39m.\u001b[39mfit_transform(\n\u001b[1;32m----> <a href='vscode-notebook-cell:/c%3A/Users/Queenbee/GitHub/April19/UTOR-VIRT-FIN-PT-11-2021-U-C/13-AWS-Cloud/Unit%2013%20Homework/Instructions/Starter_Files/crypto_clustering.ipynb#ch0000031?line=3'>4</a>\u001b[0m     clustered_df[[\u001b[39m\"\u001b[39;49m\u001b[39mTotalCoinSupply\u001b[39;49m\u001b[39m\"\u001b[39;49m, \u001b[39m\"\u001b[39;49m\u001b[39mTotalCoinsMined\u001b[39;49m\u001b[39m\"\u001b[39;49m]]\n\u001b[0;32m      <a href='vscode-notebook-cell:/c%3A/Users/Queenbee/GitHub/April19/UTOR-VIRT-FIN-PT-11-2021-U-C/13-AWS-Cloud/Unit%2013%20Homework/Instructions/Starter_Files/crypto_clustering.ipynb#ch0000031?line=4'>5</a>\u001b[0m )\n\u001b[0;32m      <a href='vscode-notebook-cell:/c%3A/Users/Queenbee/GitHub/April19/UTOR-VIRT-FIN-PT-11-2021-U-C/13-AWS-Cloud/Unit%2013%20Homework/Instructions/Starter_Files/crypto_clustering.ipynb#ch0000031?line=5'>6</a>\u001b[0m plot_df \u001b[39m=\u001b[39m pd\u001b[39m.\u001b[39mDataFrame(\n\u001b[0;32m      <a href='vscode-notebook-cell:/c%3A/Users/Queenbee/GitHub/April19/UTOR-VIRT-FIN-PT-11-2021-U-C/13-AWS-Cloud/Unit%2013%20Homework/Instructions/Starter_Files/crypto_clustering.ipynb#ch0000031?line=6'>7</a>\u001b[0m     plot_data, columns\u001b[39m=\u001b[39m[\u001b[39m\"\u001b[39m\u001b[39mTotalCoinSupply\u001b[39m\u001b[39m\"\u001b[39m, \u001b[39m\"\u001b[39m\u001b[39mTotalCoinsMined\u001b[39m\u001b[39m\"\u001b[39m], index\u001b[39m=\u001b[39mclustered_df\u001b[39m.\u001b[39mindex\n\u001b[0;32m      <a href='vscode-notebook-cell:/c%3A/Users/Queenbee/GitHub/April19/UTOR-VIRT-FIN-PT-11-2021-U-C/13-AWS-Cloud/Unit%2013%20Homework/Instructions/Starter_Files/crypto_clustering.ipynb#ch0000031?line=7'>8</a>\u001b[0m )\n\u001b[0;32m      <a href='vscode-notebook-cell:/c%3A/Users/Queenbee/GitHub/April19/UTOR-VIRT-FIN-PT-11-2021-U-C/13-AWS-Cloud/Unit%2013%20Homework/Instructions/Starter_Files/crypto_clustering.ipynb#ch0000031?line=8'>9</a>\u001b[0m plot_df[\u001b[39m\"\u001b[39m\u001b[39mCoinName\u001b[39m\u001b[39m\"\u001b[39m] \u001b[39m=\u001b[39m clustered_df[\u001b[39m\"\u001b[39m\u001b[39mCoinName\u001b[39m\u001b[39m\"\u001b[39m]\n",
      "File \u001b[1;32m~\\AppData\\Local\\Programs\\PythonCodingPack\\lib\\site-packages\\pandas\\core\\frame.py:2905\u001b[0m, in \u001b[0;36mDataFrame.__getitem__\u001b[1;34m(self, key)\u001b[0m\n\u001b[0;32m   <a href='file:///c%3A/Users/Queenbee/AppData/Local/Programs/PythonCodingPack/lib/site-packages/pandas/core/frame.py?line=2902'>2903</a>\u001b[0m     \u001b[39mif\u001b[39;00m is_iterator(key):\n\u001b[0;32m   <a href='file:///c%3A/Users/Queenbee/AppData/Local/Programs/PythonCodingPack/lib/site-packages/pandas/core/frame.py?line=2903'>2904</a>\u001b[0m         key \u001b[39m=\u001b[39m \u001b[39mlist\u001b[39m(key)\n\u001b[1;32m-> <a href='file:///c%3A/Users/Queenbee/AppData/Local/Programs/PythonCodingPack/lib/site-packages/pandas/core/frame.py?line=2904'>2905</a>\u001b[0m     indexer \u001b[39m=\u001b[39m \u001b[39mself\u001b[39;49m\u001b[39m.\u001b[39;49mloc\u001b[39m.\u001b[39;49m_get_listlike_indexer(key, axis\u001b[39m=\u001b[39;49m\u001b[39m1\u001b[39;49m, raise_missing\u001b[39m=\u001b[39;49m\u001b[39mTrue\u001b[39;49;00m)[\u001b[39m1\u001b[39m]\n\u001b[0;32m   <a href='file:///c%3A/Users/Queenbee/AppData/Local/Programs/PythonCodingPack/lib/site-packages/pandas/core/frame.py?line=2906'>2907</a>\u001b[0m \u001b[39m# take() does not accept boolean indexers\u001b[39;00m\n\u001b[0;32m   <a href='file:///c%3A/Users/Queenbee/AppData/Local/Programs/PythonCodingPack/lib/site-packages/pandas/core/frame.py?line=2907'>2908</a>\u001b[0m \u001b[39mif\u001b[39;00m \u001b[39mgetattr\u001b[39m(indexer, \u001b[39m\"\u001b[39m\u001b[39mdtype\u001b[39m\u001b[39m\"\u001b[39m, \u001b[39mNone\u001b[39;00m) \u001b[39m==\u001b[39m \u001b[39mbool\u001b[39m:\n",
      "File \u001b[1;32m~\\AppData\\Local\\Programs\\PythonCodingPack\\lib\\site-packages\\pandas\\core\\indexing.py:1254\u001b[0m, in \u001b[0;36m_LocIndexer._get_listlike_indexer\u001b[1;34m(self, key, axis, raise_missing)\u001b[0m\n\u001b[0;32m   <a href='file:///c%3A/Users/Queenbee/AppData/Local/Programs/PythonCodingPack/lib/site-packages/pandas/core/indexing.py?line=1250'>1251</a>\u001b[0m \u001b[39melse\u001b[39;00m:\n\u001b[0;32m   <a href='file:///c%3A/Users/Queenbee/AppData/Local/Programs/PythonCodingPack/lib/site-packages/pandas/core/indexing.py?line=1251'>1252</a>\u001b[0m     keyarr, indexer, new_indexer \u001b[39m=\u001b[39m ax\u001b[39m.\u001b[39m_reindex_non_unique(keyarr)\n\u001b[1;32m-> <a href='file:///c%3A/Users/Queenbee/AppData/Local/Programs/PythonCodingPack/lib/site-packages/pandas/core/indexing.py?line=1253'>1254</a>\u001b[0m \u001b[39mself\u001b[39;49m\u001b[39m.\u001b[39;49m_validate_read_indexer(keyarr, indexer, axis, raise_missing\u001b[39m=\u001b[39;49mraise_missing)\n\u001b[0;32m   <a href='file:///c%3A/Users/Queenbee/AppData/Local/Programs/PythonCodingPack/lib/site-packages/pandas/core/indexing.py?line=1254'>1255</a>\u001b[0m \u001b[39mreturn\u001b[39;00m keyarr, indexer\n",
      "File \u001b[1;32m~\\AppData\\Local\\Programs\\PythonCodingPack\\lib\\site-packages\\pandas\\core\\indexing.py:1304\u001b[0m, in \u001b[0;36m_LocIndexer._validate_read_indexer\u001b[1;34m(self, key, indexer, axis, raise_missing)\u001b[0m\n\u001b[0;32m   <a href='file:///c%3A/Users/Queenbee/AppData/Local/Programs/PythonCodingPack/lib/site-packages/pandas/core/indexing.py?line=1301'>1302</a>\u001b[0m \u001b[39mif\u001b[39;00m raise_missing:\n\u001b[0;32m   <a href='file:///c%3A/Users/Queenbee/AppData/Local/Programs/PythonCodingPack/lib/site-packages/pandas/core/indexing.py?line=1302'>1303</a>\u001b[0m     not_found \u001b[39m=\u001b[39m \u001b[39mlist\u001b[39m(\u001b[39mset\u001b[39m(key) \u001b[39m-\u001b[39m \u001b[39mset\u001b[39m(ax))\n\u001b[1;32m-> <a href='file:///c%3A/Users/Queenbee/AppData/Local/Programs/PythonCodingPack/lib/site-packages/pandas/core/indexing.py?line=1303'>1304</a>\u001b[0m     \u001b[39mraise\u001b[39;00m \u001b[39mKeyError\u001b[39;00m(\u001b[39mf\u001b[39m\u001b[39m\"\u001b[39m\u001b[39m{\u001b[39;00mnot_found\u001b[39m}\u001b[39;00m\u001b[39m not in index\u001b[39m\u001b[39m\"\u001b[39m)\n\u001b[0;32m   <a href='file:///c%3A/Users/Queenbee/AppData/Local/Programs/PythonCodingPack/lib/site-packages/pandas/core/indexing.py?line=1305'>1306</a>\u001b[0m \u001b[39m# we skip the warning on Categorical\u001b[39;00m\n\u001b[0;32m   <a href='file:///c%3A/Users/Queenbee/AppData/Local/Programs/PythonCodingPack/lib/site-packages/pandas/core/indexing.py?line=1306'>1307</a>\u001b[0m \u001b[39m# as this check is actually done (check for\u001b[39;00m\n\u001b[0;32m   <a href='file:///c%3A/Users/Queenbee/AppData/Local/Programs/PythonCodingPack/lib/site-packages/pandas/core/indexing.py?line=1307'>1308</a>\u001b[0m \u001b[39m# non-missing values), but a bit later in the\u001b[39;00m\n\u001b[0;32m   <a href='file:///c%3A/Users/Queenbee/AppData/Local/Programs/PythonCodingPack/lib/site-packages/pandas/core/indexing.py?line=1308'>1309</a>\u001b[0m \u001b[39m# code, so we want to avoid warning & then\u001b[39;00m\n\u001b[0;32m   <a href='file:///c%3A/Users/Queenbee/AppData/Local/Programs/PythonCodingPack/lib/site-packages/pandas/core/indexing.py?line=1309'>1310</a>\u001b[0m \u001b[39m# just raising\u001b[39;00m\n\u001b[0;32m   <a href='file:///c%3A/Users/Queenbee/AppData/Local/Programs/PythonCodingPack/lib/site-packages/pandas/core/indexing.py?line=1310'>1311</a>\u001b[0m \u001b[39mif\u001b[39;00m \u001b[39mnot\u001b[39;00m ax\u001b[39m.\u001b[39mis_categorical():\n",
      "\u001b[1;31mKeyError\u001b[0m: \"['TotalCoinSupply'] not in index\""
     ]
    }
   ],
   "source": [
    "# Scale data to create the scatter plot\n",
    "mm_scaler = MinMaxScaler()\n",
    "plot_data = mm_scaler.fit_transform(\n",
    "    clustered_df[[\"TotalCoinSupply\", \"TotalCoinsMined\"]]\n",
    ")\n",
    "plot_df = pd.DataFrame(\n",
    "    plot_data, columns=[\"TotalCoinSupply\", \"TotalCoinsMined\"], index=clustered_df.index\n",
    ")\n",
    "plot_df[\"CoinName\"] = clustered_df[\"CoinName\"]\n",
    "plot_df[\"Class\"] = clustered_df[\"Class\"]\n",
    "plot_df.head()\n"
   ]
  },
  {
   "cell_type": "code",
   "execution_count": 94,
   "metadata": {},
   "outputs": [
    {
     "ename": "NameError",
     "evalue": "name 'plot_df' is not defined",
     "output_type": "error",
     "traceback": [
      "\u001b[1;31m---------------------------------------------------------------------------\u001b[0m",
      "\u001b[1;31mNameError\u001b[0m                                 Traceback (most recent call last)",
      "\u001b[1;32mc:\\Users\\Queenbee\\GitHub\\April19\\UTOR-VIRT-FIN-PT-11-2021-U-C\\13-AWS-Cloud\\Unit 13 Homework\\Instructions\\Starter_Files\\crypto_clustering.ipynb Cell 32'\u001b[0m in \u001b[0;36m<cell line: 2>\u001b[1;34m()\u001b[0m\n\u001b[0;32m      <a href='vscode-notebook-cell:/c%3A/Users/Queenbee/GitHub/April19/UTOR-VIRT-FIN-PT-11-2021-U-C/13-AWS-Cloud/Unit%2013%20Homework/Instructions/Starter_Files/crypto_clustering.ipynb#ch0000032?line=0'>1</a>\u001b[0m \u001b[39m# Plot the scatter with x=\"TotalCoinsMined\" and y=\"TotalCoinSupply\"\u001b[39;00m\n\u001b[1;32m----> <a href='vscode-notebook-cell:/c%3A/Users/Queenbee/GitHub/April19/UTOR-VIRT-FIN-PT-11-2021-U-C/13-AWS-Cloud/Unit%2013%20Homework/Instructions/Starter_Files/crypto_clustering.ipynb#ch0000032?line=1'>2</a>\u001b[0m plot_df\u001b[39m.\u001b[39mhvplot\u001b[39m.\u001b[39mscatter(\n\u001b[0;32m      <a href='vscode-notebook-cell:/c%3A/Users/Queenbee/GitHub/April19/UTOR-VIRT-FIN-PT-11-2021-U-C/13-AWS-Cloud/Unit%2013%20Homework/Instructions/Starter_Files/crypto_clustering.ipynb#ch0000032?line=2'>3</a>\u001b[0m     x\u001b[39m=\u001b[39m\u001b[39m\"\u001b[39m\u001b[39mTotalCoinsMined\u001b[39m\u001b[39m\"\u001b[39m, y\u001b[39m=\u001b[39m\u001b[39m\"\u001b[39m\u001b[39mTotalCoinSupply\u001b[39m\u001b[39m\"\u001b[39m, hover_cols\u001b[39m=\u001b[39m[\u001b[39m\"\u001b[39m\u001b[39mCoinName\u001b[39m\u001b[39m\"\u001b[39m], by\u001b[39m=\u001b[39m\u001b[39m\"\u001b[39m\u001b[39mClass\u001b[39m\u001b[39m\"\u001b[39m\n\u001b[0;32m      <a href='vscode-notebook-cell:/c%3A/Users/Queenbee/GitHub/April19/UTOR-VIRT-FIN-PT-11-2021-U-C/13-AWS-Cloud/Unit%2013%20Homework/Instructions/Starter_Files/crypto_clustering.ipynb#ch0000032?line=3'>4</a>\u001b[0m )\n",
      "\u001b[1;31mNameError\u001b[0m: name 'plot_df' is not defined"
     ]
    }
   ],
   "source": [
    "# Plot the scatter with x=\"TotalCoinsMined\" and y=\"TotalCoinSupply\"\n",
    "plot_df.hvplot.scatter(\n",
    "    x=\"TotalCoinsMined\", y=\"TotalCoinSupply\", hover_cols=[\"CoinName\"], by=\"Class\"\n",
    ")\n",
    "\n"
   ]
  }
 ],
 "metadata": {
  "file_extension": ".py",
  "kernelspec": {
   "display_name": "Python 3",
   "language": "python",
   "name": "python3"
  },
  "language_info": {
   "codemirror_mode": {
    "name": "ipython",
    "version": 3
   },
   "file_extension": ".py",
   "mimetype": "text/x-python",
   "name": "python",
   "nbconvert_exporter": "python",
   "pygments_lexer": "ipython3",
   "version": "3.8.5"
  },
  "mimetype": "text/x-python",
  "name": "python",
  "npconvert_exporter": "python",
  "pygments_lexer": "ipython3",
  "version": 3
 },
 "nbformat": 4,
 "nbformat_minor": 4
}
